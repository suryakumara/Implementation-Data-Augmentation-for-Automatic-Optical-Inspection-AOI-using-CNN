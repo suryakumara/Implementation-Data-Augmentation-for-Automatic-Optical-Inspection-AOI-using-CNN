{
 "cells": [
  {
   "cell_type": "code",
   "execution_count": null,
   "metadata": {},
   "outputs": [],
   "source": [
    "# importing the libraries\n",
    "import pandas as pd\n",
    "import numpy as np\n",
    "\n",
    "# for reading and displaying images\n",
    "from skimage.io import imread\n",
    "from skimage.transform import rescale, resize, downscale_local_mean, rotate\n",
    "from skimage.util import random_noise\n",
    "\n",
    "import matplotlib.pyplot as plt\n",
    "#%matplotlib inline\n",
    "\n",
    "# for creating validation set\n",
    "from sklearn.model_selection import train_test_split\n",
    "\n",
    "# for evaluating the model\n",
    "from sklearn.metrics import accuracy_score\n",
    "from tqdm import tqdm\n",
    "\n",
    "# PyTorch libraries and modules\n",
    "import torch\n",
    "from torch.autograd import Variable\n",
    "from torch.nn import Linear, ReLU, CrossEntropyLoss, Sequential, Conv2d, MaxPool2d, Module, Softmax, BatchNorm2d, Dropout\n",
    "from torch.optim import Adam, SGD\n"
   ]
  },
  {
   "cell_type": "code",
   "execution_count": null,
   "metadata": {},
   "outputs": [],
   "source": [
    "# loading dataset\n",
    "train = pd.read_csv('dataset/train.csv')\n",
    "test = pd.read_csv('dataset/test.csv')\n",
    "sample_submission  = pd.read_csv('dataset/submission.csv')"
   ]
  },
  {
   "cell_type": "code",
   "execution_count": null,
   "metadata": {},
   "outputs": [],
   "source": [
    "train.head()"
   ]
  },
  {
   "cell_type": "code",
   "execution_count": null,
   "metadata": {},
   "outputs": [],
   "source": [
    "# loading training images\n",
    "train_img = []\n",
    "for img_name in tqdm(train['ID']):\n",
    "    # defining the image path\n",
    "    image_path = 'dataset/train/' + str(img_name) #+ '.png'\n",
    "    # reading the image\n",
    "    img2 = imread(image_path, as_gray=True)\n",
    "    \n",
    "    # converting the type of pixel to float 32\n",
    "    \n",
    "    img2 = resize(img2, (28, 28))\n",
    "    # appending the image into the list\n",
    "    img2 = img2.astype('float32')\n",
    "    # normalizing the pixel values\n",
    "    img2 /= 255.0\n",
    "    \n",
    "    #k = 0.1 # you could set any any real number\n",
    "    #noise = np.ones_like(img2) * k * (img2.max() - img2.min())\n",
    "    #noise[np.random.random(size=noise.shape) > 0.5] *= -1\n",
    "    #img_noise = img2 + noise # new image with noise\n",
    "    \n",
    "    #image_rotated = rotate(img2, angle=180, resize=False)\n",
    "    \n",
    "    train_img.append(img2)\n",
    "\n",
    "\n",
    "# converting the list to numpy array\n",
    "train_x = np.array(train_img)\n",
    "# defining the target\n",
    "train_y = train['Label'].values\n",
    "train_x.shape"
   ]
  },
  {
   "cell_type": "code",
   "execution_count": null,
   "metadata": {},
   "outputs": [],
   "source": [
    "#visualizing images\n",
    "i = 0\n",
    "plt.figure(figsize=(5,5))\n",
    "plt.subplot(221), plt.imshow(train_x[i], cmap='gray')\n",
    "plt.subplot(222), plt.imshow(train_x[i+25], cmap='gray')\n",
    "plt.subplot(223), plt.imshow(train_x[i+50], cmap='gray')\n",
    "plt.subplot(224), plt.imshow(train_x[i+75], cmap='gray')"
   ]
  },
  {
   "cell_type": "code",
   "execution_count": null,
   "metadata": {},
   "outputs": [],
   "source": [
    "# create validation set\n",
    "train_x, val_x, train_y, val_y = train_test_split(train_x, train_y, test_size = 0.1)\n",
    "(train_x.shape, train_y.shape), (val_x.shape, val_y.shape)"
   ]
  },
  {
   "cell_type": "code",
   "execution_count": null,
   "metadata": {},
   "outputs": [],
   "source": [
    "final_train_data = []\n",
    "final_target_train = []\n",
    "for i in tqdm(range(train_x.shape[0])):\n",
    "    final_train_data.append(train_x[i])\n",
    "    final_train_data.append(rotate(train_x[i], angle=45, mode = 'wrap'))\n",
    "    final_train_data.append(np.fliplr(train_x[i]))\n",
    "    final_train_data.append(np.flipud(train_x[i]))\n",
    "    final_train_data.append(random_noise(train_x[i],var=0.00155**2))\n",
    "    for j in range(5):\n",
    "        final_target_train.append(train_y[i])"
   ]
  },
  {
   "cell_type": "code",
   "execution_count": null,
   "metadata": {},
   "outputs": [],
   "source": [
    "\n",
    "final_train = np.array(final_train_data)\n",
    "final_target_train = np.array(final_target_train)\n",
    "len(final_target_train), len(final_train_data)"
   ]
  },
  {
   "cell_type": "code",
   "execution_count": null,
   "metadata": {},
   "outputs": [],
   "source": [
    "fig,ax = plt.subplots(nrows=1,ncols=5,figsize=(20,20))\n",
    "for i in range(5):\n",
    "    ax[i].imshow(final_train[i+30])\n",
    "    ax[i].axis('off')"
   ]
  },
  {
   "cell_type": "code",
   "execution_count": null,
   "metadata": {},
   "outputs": [],
   "source": [
    "# converting training images into torch format\n",
    "final_train = final_train.reshape(11375, 1, 28, 28)\n",
    "final_train = torch.from_numpy(final_train).float()\n",
    "#x_tensor = train_x(requires_grad=True)\n",
    "\n",
    "\n",
    "# converting the target into torch format\n",
    "final_target_train = final_target_train.astype(int);\n",
    "final_target_train = torch.from_numpy(final_target_train)\n",
    "y_tensor = final_target_train.long().clone().detach() \n",
    "# shape of training datacd \n",
    "final_train.shape, final_target_train.shape"
   ]
  },
  {
   "cell_type": "code",
   "execution_count": null,
   "metadata": {},
   "outputs": [],
   "source": [
    "# converting validation images into torch format\n",
    "val_x = val_x.reshape(253, 1, 28, 28)\n",
    "val_x  = torch.from_numpy(val_x).float()\n",
    "\n",
    "# converting the target into torch format\n",
    "val_y = val_y.astype(int);\n",
    "val_y = torch.from_numpy(val_y)\n",
    "y_valsor = val_y.long().clone().detach() \n",
    "\n",
    "# shape of validation data\n",
    "val_x.shape, val_y.shape"
   ]
  },
  {
   "cell_type": "code",
   "execution_count": null,
   "metadata": {},
   "outputs": [],
   "source": [
    "class DARTS_V2(Module):   \n",
    "    def __init__(self):\n",
    "        super(DARTS_V2, self).__init__()\n",
    "\n",
    "        self.cnn_layers = Sequential(\n",
    "            # Defining a 2D convolution layer\n",
    "            Conv2d(1, 10, kernel_size=3, stride=1, padding=1),\n",
    "            BatchNorm2d(10),\n",
    "            ReLU(inplace=True),\n",
    "            MaxPool2d(kernel_size=2, stride=2),\n",
    "            # Defining another 2D convolution layer\n",
    "            Conv2d(10, 20, kernel_size=5, stride=1, padding=1),\n",
    "            BatchNorm2d(20),\n",
    "            ReLU(inplace=True),\n",
    "            MaxPool2d(kernel_size=2, stride=2),\n",
    "            \n",
    "        )\n",
    "\n",
    "        self.linear_layers = Sequential(\n",
    "            Linear(720, 6)\n",
    "        )\n",
    "\n",
    "    # Defining the forward pass    \n",
    "    def forward(self, x):\n",
    "        x = self.cnn_layers(x)\n",
    "        x = x.view(x.size(0), -1)\n",
    "        x = self.linear_layers(x)\n",
    "        return x"
   ]
  },
  {
   "cell_type": "code",
   "execution_count": null,
   "metadata": {},
   "outputs": [],
   "source": [
    "# defining the model\n",
    "model = DARTS_V2()\n",
    "# defining the optimizer\n",
    "optimizer = SGD(model.parameters(), lr=0.025, momentum=0.9, weight_decay=0.0003)\n",
    "# defining the loss function\n",
    "criterion = CrossEntropyLoss()\n",
    "# checking if GPU is available\n",
    "if torch.cuda.is_available():\n",
    "    model = model.cuda()\n",
    "    criterion = criterion.cuda()\n",
    "    \n",
    "print(model)"
   ]
  },
  {
   "cell_type": "code",
   "execution_count": null,
   "metadata": {},
   "outputs": [],
   "source": [
    "def train(epoch):\n",
    "    model.train()\n",
    "    tr_loss = 0\n",
    "    # getting the training set\n",
    "    x_train, y_train = Variable(final_train), Variable(y_tensor)\n",
    "    # getting the validation set\n",
    "    x_val, y_val = Variable(val_x), Variable(y_valsor)\n",
    "    # converting the data into GPU format\n",
    "    if torch.cuda.is_available():\n",
    "        x_train = x_train.cuda()\n",
    "        y_train = y_train.cuda()\n",
    "        x_val = x_val.cuda()\n",
    "        y_val = y_val.cuda()\n",
    "\n",
    "    # clearing the Gradients of the model parameters\n",
    "    optimizer.zero_grad()\n",
    "    \n",
    "    # prediction for training and validation set\n",
    "    output_train = model(x_train)\n",
    "    output_val = model(x_val)\n",
    "\n",
    "    # computing the training and validation loss\n",
    "    loss_train = criterion(output_train, y_train)\n",
    "    loss_val = criterion(output_val, y_val)\n",
    "    train_losses.append(loss_train)\n",
    "    val_losses.append(loss_val)\n",
    "\n",
    "    # computing the updated weights of all the model parameters\n",
    "    loss_train.backward()\n",
    "    optimizer.step()\n",
    "    tr_loss = loss_train.item()\n",
    "    if epoch%2 == 0:\n",
    "        # printing the validation loss\n",
    "        print('Epoch : ',epoch+1, '\\t', 'loss :', loss_val)\n",
    "        "
   ]
  },
  {
   "cell_type": "code",
   "execution_count": null,
   "metadata": {
    "scrolled": false
   },
   "outputs": [],
   "source": [
    "n_epochs = 500\n",
    "# empty list to store training losses\n",
    "train_losses = []\n",
    "# empty list to store validation losses\n",
    "val_losses = []\n",
    "# training the model\n",
    "for epoch in range(n_epochs):\n",
    "    train(epoch)"
   ]
  },
  {
   "cell_type": "code",
   "execution_count": null,
   "metadata": {},
   "outputs": [],
   "source": [
    "# plotting the training and validation loss\n",
    "plt.plot(train_losses, label='Training loss')\n",
    "plt.plot(val_losses, label='Validation loss')\n",
    "plt.legend()\n",
    "plt.show()"
   ]
  },
  {
   "cell_type": "code",
   "execution_count": null,
   "metadata": {},
   "outputs": [],
   "source": [
    "# prediction for training set\n",
    "with torch.no_grad():\n",
    "    output = model(final_train)\n",
    "    \n",
    "softmax = torch.exp(output).cpu()\n",
    "prob = list(softmax.numpy())\n",
    "predictions = np.argmax(prob, axis=1)\n",
    "\n",
    "# accuracy on training set\n",
    "accuracy_score(final_target_train, predictions)"
   ]
  },
  {
   "cell_type": "code",
   "execution_count": null,
   "metadata": {},
   "outputs": [],
   "source": [
    "print(train_y.grad)"
   ]
  },
  {
   "cell_type": "code",
   "execution_count": null,
   "metadata": {},
   "outputs": [],
   "source": [
    "# prediction for validation set\n",
    "with torch.no_grad():\n",
    "    output = model(val_x)\n",
    "\n",
    "softmax = torch.exp(output).cpu()\n",
    "prob = list(softmax.numpy())\n",
    "predictions = np.argmax(prob, axis=1)\n",
    "\n",
    "# accuracy on validation set\n",
    "accuracy_score(val_y, predictions)"
   ]
  },
  {
   "cell_type": "code",
   "execution_count": null,
   "metadata": {},
   "outputs": [],
   "source": [
    "test_img = []\n",
    "for img_name in tqdm(test['ID']):\n",
    "    # defining the image path\n",
    "    image_path = 'dataset/test/' + str(img_name) #+ '.png'\n",
    "    # reading the image\n",
    "    img2 = imread(image_path, as_gray=True)\n",
    "    \n",
    "    # converting the type of pixel to float 32\n",
    "    \n",
    "    img2 = resize(img2, (28, 28))\n",
    "    # appending the image into the list\n",
    "    img2 = img2.astype('float32')\n",
    "    # normalizing the pixel values\n",
    "    img2 /= 255.0\n",
    "    \n",
    "    #k = 0.1 # you could set any any real number\n",
    "    #noise = np.ones_like(img2) * k * (img2.max() - img2.min())\n",
    "    #noise[np.random.random(size=noise.shape) > 0.5] *= -1\n",
    "    #img_noise = img2 + noise # new image with noise\n",
    "    \n",
    "    image_rotated = rotate(img2, angle=180, resize=False)\n",
    "    \n",
    "\n",
    "    test_img.append(image_rotated)\n",
    "\n",
    "# converting the list to numpy array\n",
    "test_x = np.array(test_img)\n",
    "test_x.shape\n",
    "\n",
    "# converting training images into torch format\n",
    "test_x = test_x.reshape(10142, 1, 28, 28)\n",
    "test_x  = torch.from_numpy(test_x)\n",
    "test_x.shape"
   ]
  },
  {
   "cell_type": "code",
   "execution_count": null,
   "metadata": {},
   "outputs": [],
   "source": [
    "test_x=test_x.float()"
   ]
  },
  {
   "cell_type": "code",
   "execution_count": null,
   "metadata": {},
   "outputs": [],
   "source": [
    "# generating predictions for test set\n",
    "with torch.no_grad():\n",
    "    output = model(test_x)\n",
    "\n",
    "softmax = torch.exp(output).cpu()\n",
    "prob = list(softmax.numpy())\n",
    "predictions = np.argmax(prob, axis=1)"
   ]
  },
  {
   "cell_type": "code",
   "execution_count": null,
   "metadata": {},
   "outputs": [],
   "source": [
    "# replacing the label with prediction\n",
    "sample_submission['Label'] = predictions\n",
    "sample_submission.head()"
   ]
  },
  {
   "cell_type": "code",
   "execution_count": null,
   "metadata": {},
   "outputs": [],
   "source": [
    "# saving the file\n",
    "sample_submission.to_csv('surya27.csv', index=False)"
   ]
  }
 ],
 "metadata": {
  "kernelspec": {
   "display_name": "Python 3",
   "language": "python",
   "name": "python3"
  },
  "language_info": {
   "codemirror_mode": {
    "name": "ipython",
    "version": 3
   },
   "file_extension": ".py",
   "mimetype": "text/x-python",
   "name": "python",
   "nbconvert_exporter": "python",
   "pygments_lexer": "ipython3",
   "version": "3.7.4"
  }
 },
 "nbformat": 4,
 "nbformat_minor": 2
}
